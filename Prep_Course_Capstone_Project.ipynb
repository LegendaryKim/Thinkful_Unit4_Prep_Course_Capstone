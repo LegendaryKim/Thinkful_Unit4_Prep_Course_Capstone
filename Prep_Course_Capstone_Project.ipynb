{
 "cells": [
  {
   "attachments": {},
   "cell_type": "markdown",
   "metadata": {},
   "source": [
    "## Data Science Prep Course Capstone Review Project\n",
    "Hwanpyo Kim, July 19, 2018\n",
    "\n",
    "### Abstract\n",
    "A house is usually the most expensive and valuable property traded by an individual in his or her lifetime. Decisions on a housing transaction are incredibly critical to managing one's property. There are countless and complicated parameters related to housing price; it is one of the most stressful job to make a crucial decision by oneself because we only have unscientific and empirical evidence about the prescribed trade. As a result, it is the reason real estate databases companies including Zillow growth rapidly with their transaction dataset and predictive models.\n",
    "\n",
    "The following project examines the dependent variable \"SalePrice\" in a statistical view from [Kaggle](https://www.kaggle.com/c/house-prices-advanced-regression-techniques), the Ames Housing Dataset compiled by Dean De Cock. The dataset includes housing transactions traded from Jan 2006 to Jul 2010. I also search representative parameters robustly correlated to the housing price such as \"OveralQual\", rates the overall material and finish of the house, and \"GrLivAre\", above ground living area, and their \"Neighborhood\". Lastly, the statistical difference in house trade between seasons is tested."
   ]
  },
  {
   "cell_type": "markdown",
   "metadata": {},
   "source": [
    "### Checking the Dataset"
   ]
  },
  {
   "cell_type": "code",
   "execution_count": 1,
   "metadata": {
    "collapsed": true
   },
   "outputs": [],
   "source": [
    "#import libraries\n",
    "import numpy as np\n",
    "import pandas as pd\n",
    "import matplotlib.pyplot as plt\n",
    "from scipy import stats\n",
    "%matplotlib inline"
   ]
  },
  {
   "cell_type": "code",
   "execution_count": 2,
   "metadata": {},
   "outputs": [
    {
     "name": "stdout",
     "output_type": "stream",
     "text": [
      "(1460, 81)\n"
     ]
    }
   ],
   "source": [
    "# import the train dataset into pandas dataframe & check the architecture of the dataset\n",
    "train = pd.read_csv('./Data/train.csv')\n",
    "print(train.shape)"
   ]
  },
  {
   "cell_type": "markdown",
   "metadata": {},
   "source": [
    "After importing the train dataset downloaded from [Kaggle](https://www.kaggle.com/c/house-prices-advanced-regression-techniques), we can check the shape of the housing dataframe; there are 1460 rows (equal to cases) and 81 columns. Is there any duplicated data? Check it with transaction ID, a variable \"Id\"!"
   ]
  },
  {
   "cell_type": "code",
   "execution_count": 3,
   "metadata": {},
   "outputs": [
    {
     "data": {
      "text/plain": [
       "0"
      ]
     },
     "execution_count": 3,
     "metadata": {},
     "output_type": "execute_result"
    }
   ],
   "source": [
    "train.Id.duplicated().sum()"
   ]
  },
  {
   "cell_type": "markdown",
   "metadata": {},
   "source": [
    "Great! There isn't any duplicated case and we don't have to filter any case for the analysis, totally 1460 cases. By the way, how many independent parameter we have?"
   ]
  },
  {
   "cell_type": "code",
   "execution_count": 4,
   "metadata": {},
   "outputs": [
    {
     "data": {
      "text/plain": [
       "Index(['Id', 'MSSubClass', 'MSZoning', 'LotFrontage', 'LotArea', 'Street',\n",
       "       'Alley', 'LotShape', 'LandContour', 'Utilities', 'LotConfig',\n",
       "       'LandSlope', 'Neighborhood', 'Condition1', 'Condition2', 'BldgType',\n",
       "       'HouseStyle', 'OverallQual', 'OverallCond', 'YearBuilt', 'YearRemodAdd',\n",
       "       'RoofStyle', 'RoofMatl', 'Exterior1st', 'Exterior2nd', 'MasVnrType',\n",
       "       'MasVnrArea', 'ExterQual', 'ExterCond', 'Foundation', 'BsmtQual',\n",
       "       'BsmtCond', 'BsmtExposure', 'BsmtFinType1', 'BsmtFinSF1',\n",
       "       'BsmtFinType2', 'BsmtFinSF2', 'BsmtUnfSF', 'TotalBsmtSF', 'Heating',\n",
       "       'HeatingQC', 'CentralAir', 'Electrical', '1stFlrSF', '2ndFlrSF',\n",
       "       'LowQualFinSF', 'GrLivArea', 'BsmtFullBath', 'BsmtHalfBath', 'FullBath',\n",
       "       'HalfBath', 'BedroomAbvGr', 'KitchenAbvGr', 'KitchenQual',\n",
       "       'TotRmsAbvGrd', 'Functional', 'Fireplaces', 'FireplaceQu', 'GarageType',\n",
       "       'GarageYrBlt', 'GarageFinish', 'GarageCars', 'GarageArea', 'GarageQual',\n",
       "       'GarageCond', 'PavedDrive', 'WoodDeckSF', 'OpenPorchSF',\n",
       "       'EnclosedPorch', '3SsnPorch', 'ScreenPorch', 'PoolArea', 'PoolQC',\n",
       "       'Fence', 'MiscFeature', 'MiscVal', 'MoSold', 'YrSold', 'SaleType',\n",
       "       'SaleCondition', 'SalePrice'],\n",
       "      dtype='object')"
      ]
     },
     "execution_count": 4,
     "metadata": {},
     "output_type": "execute_result"
    }
   ],
   "source": [
    "train.columns"
   ]
  },
  {
   "cell_type": "markdown",
   "metadata": {},
   "source": [
    "Amazingly, there are 79 independent parameters are listed as columns except \"Id\" and \"SalePrice\". OMG! How can we hand this overflowing data, 1460 x (79 + 1),  to my housing price from this overflowing data! With three analytical questions, let me look the data deeper!"
   ]
  },
  {
   "cell_type": "markdown",
   "metadata": {},
   "source": [
    "**Analytic Q1. Who are you, \"SalePrice\"?!**\n",
    "\n",
    "The dependent variable \"SalePrice\" is our target in this project. So, we need to know this specifically with our statistical eyes."
   ]
  },
  {
   "cell_type": "code",
   "execution_count": 5,
   "metadata": {},
   "outputs": [
    {
     "data": {
      "text/plain": [
       "count      1460.000000\n",
       "mean     180921.195890\n",
       "std       79442.502883\n",
       "min       34900.000000\n",
       "25%      129975.000000\n",
       "50%      163000.000000\n",
       "75%      214000.000000\n",
       "max      755000.000000\n",
       "Name: SalePrice, dtype: float64"
      ]
     },
     "execution_count": 5,
     "metadata": {},
     "output_type": "execute_result"
    }
   ],
   "source": [
    "train['SalePrice'].describe()"
   ]
  },
  {
   "cell_type": "markdown",
   "metadata": {},
   "source": [
    "We can get descriptive statistics of \"SalePrice\". Tere is huge difference between its mean and median; it seems like positive skewed! (because the mean is bigger.). Let's check the skewness."
   ]
  },
  {
   "cell_type": "code",
   "execution_count": 6,
   "metadata": {},
   "outputs": [
    {
     "name": "stdout",
     "output_type": "stream",
     "text": [
      "Skewness:  1.88287575977\n"
     ]
    }
   ],
   "source": [
    "print('Skewness: ', train['SalePrice'].skew())"
   ]
  },
  {
   "cell_type": "markdown",
   "metadata": {},
   "source": [
    "As I mentioned, yes, there is strong postive skewness!. It means the distribution of \"SalePrice\" is far away from normal distribution. What does the distribution of \"SalePrice\" truely look like?"
   ]
  },
  {
   "cell_type": "code",
   "execution_count": 7,
   "metadata": {
    "scrolled": true
   },
   "outputs": [
    {
     "data": {
      "text/plain": [
       "<matplotlib.text.Text at 0x116d34128>"
      ]
     },
     "execution_count": 7,
     "metadata": {},
     "output_type": "execute_result"
    },
    {
     "data": {
      "image/png": "[encoded data removed]",
      "text/plain": [
       "<matplotlib.figure.Figure at 0x116cf8748>"
      ]
     },
     "metadata": {},
     "output_type": "display_data"
    }
   ],
   "source": [
    "plt.hist(train['SalePrice'], bins = 20, range= (0,800000), normed =  True)\n",
    "plt.xlabel('Sale Price')\n",
    "plt.ylabel('Probability Density')"
   ]
  },
  {
   "cell_type": "markdown",
   "metadata": {},
   "source": [
    "Oh! I see. The prescribed distribution seems like lognormal distribution!"
   ]
  },
  {
   "cell_type": "code",
   "execution_count": 8,
   "metadata": {},
   "outputs": [
    {
     "data": {
      "image/png": "[encoded data removed]",
      "text/plain": [
       "<matplotlib.figure.Figure at 0x10c0a56a0>"
      ]
     },
     "metadata": {},
     "output_type": "display_data"
    }
   ],
   "source": [
    "stats.probplot(train['SalePrice'], dist=\"norm\", plot=plt)\n",
    "plt.title('Normal Quantile-Quantile plot of Sale Price')\n",
    "plt.show()"
   ]
  },
  {
   "cell_type": "markdown",
   "metadata": {},
   "source": [
    "QQ plot of \"SalePrice\" has strong deviation from the trend line, it indicates that the data is not normal. Specially, it has strong upper tail. \n",
    "\n",
    "Even though its non-Gaussian distribution, it seems closed lognormal distribution. When we apply log function on the variable, it would have a noraml distribution."
   ]
  },
  {
   "cell_type": "code",
   "execution_count": 9,
   "metadata": {
    "scrolled": true
   },
   "outputs": [
    {
     "data": {
      "text/plain": [
       "<matplotlib.text.Text at 0x117811518>"
      ]
     },
     "execution_count": 9,
     "metadata": {},
     "output_type": "execute_result"
    },
    {
     "data": {
      "image/png": "[encoded data removed]",
      "text/plain": [
       "<matplotlib.figure.Figure at 0x10c570438>"
      ]
     },
     "metadata": {},
     "output_type": "display_data"
    }
   ],
   "source": [
    "plt.hist(np.log(train['SalePrice']), bins = 20, normed =  True)\n",
    "plt.xlabel('Log(Sale Price)')\n",
    "plt.ylabel('Probability Density')"
   ]
  },
  {
   "cell_type": "markdown",
   "metadata": {},
   "source": [
    "As you can see, it becomes much closer to normal shape!"
   ]
  },
  {
   "cell_type": "code",
   "execution_count": 10,
   "metadata": {},
   "outputs": [
    {
     "data": {
      "image/png": "[encoded data removed]",
      "text/plain": [
       "<matplotlib.figure.Figure at 0x1178199b0>"
      ]
     },
     "metadata": {},
     "output_type": "display_data"
    }
   ],
   "source": [
    "stats.probplot(np.log(train['SalePrice']), dist=\"norm\", plot=plt)\n",
    "plt.title('Lognormal Quantile-Quantile plot of Sale Price')\n",
    "plt.show()"
   ]
  },
  {
   "cell_type": "markdown",
   "metadata": {},
   "source": [
    "The QQ plot with the new variable, log-SalePrice, falls in to a straight line. So, we will use the new parameter as our new dependent one, \"LSalePrice\" in the following analysis."
   ]
  },
  {
   "cell_type": "code",
   "execution_count": 11,
   "metadata": {
    "collapsed": true
   },
   "outputs": [],
   "source": [
    "# Generate a new column, LSalePrice in the train dataset\n",
    "train['LSalePrice'] = np.log(train['SalePrice'])"
   ]
  },
  {
   "cell_type": "markdown",
   "metadata": {},
   "source": [
    "**Analytic Q2. which paremeter is related to \"SalePrice\"?!**"
   ]
  },
  {
   "cell_type": "markdown",
   "metadata": {},
   "source": [
    "In this prep capstone project, we have 79 features of house including quantative and categorical features. Among 79 parameters, I decide to check their relationship with the \"SalePrice\" with univarate analysis.\n",
    "\n",
    "\n",
    "What factor we usually consider to choose our own house? Living area!. As a representative quantitative parameter, \"GrLivArea\" means living area above ground. Generally, the total living area of the dwelling is above ground level except basement or attic. Using scatter plot, let's see the linear relationship between \"GrLivArea\" and \"LSalePrice\"."
   ]
  },
  {
   "cell_type": "code",
   "execution_count": 12,
   "metadata": {},
   "outputs": [
    {
     "data": {
      "image/png": "[encoded data removed]",
      "text/plain": [
       "<matplotlib.figure.Figure at 0x117a522b0>"
      ]
     },
     "metadata": {},
     "output_type": "display_data"
    }
   ],
   "source": [
    "# scatter plot between GrLivArea and LSalePrice\n",
    "data_LSalePrice_GrLivArea = pd.concat([train['LSalePrice'], train['GrLivArea']], axis=1)\n",
    "plt.scatter(x = data_LSalePrice_GrLivArea['GrLivArea'], y = data_LSalePrice_GrLivArea['LSalePrice'], marker ='x', color='k')\n",
    "plt.xlabel('Above Ground Living Area')\n",
    "plt.ylabel('Log(Sale Price)')\n",
    "plt.show()"
   ]
  },
  {
   "cell_type": "markdown",
   "metadata": {},
   "source": [
    "We can see that \"GrLivArea\" has strong linear correlation with \"LSalePrice\". However, we also find the two outliers whose \"GrLivArea\" are bigger than 4500."
   ]
  },
  {
   "cell_type": "code",
   "execution_count": 37,
   "metadata": {},
   "outputs": [
    {
     "data": {
      "text/html": [
       "<div>\n",
       "<style>\n",
       "    .dataframe thead tr:only-child th {\n",
       "        text-align: right;\n",
       "    }\n",
       "\n",
       "    .dataframe thead th {\n",
       "        text-align: left;\n",
       "    }\n",
       "\n",
       "    .dataframe tbody tr th {\n",
       "        vertical-align: top;\n",
       "    }\n",
       "</style>\n",
       "<table border=\"1\" class=\"dataframe\">\n",
       "  <thead>\n",
       "    <tr style=\"text-align: right;\">\n",
       "      <th></th>\n",
       "      <th>Id</th>\n",
       "      <th>MSSubClass</th>\n",
       "      <th>MSZoning</th>\n",
       "      <th>LotFrontage</th>\n",
       "      <th>LotArea</th>\n",
       "      <th>Street</th>\n",
       "      <th>Alley</th>\n",
       "      <th>LotShape</th>\n",
       "      <th>LandContour</th>\n",
       "      <th>Utilities</th>\n",
       "      <th>...</th>\n",
       "      <th>PoolQC</th>\n",
       "      <th>Fence</th>\n",
       "      <th>MiscFeature</th>\n",
       "      <th>MiscVal</th>\n",
       "      <th>MoSold</th>\n",
       "      <th>YrSold</th>\n",
       "      <th>SaleType</th>\n",
       "      <th>SaleCondition</th>\n",
       "      <th>SalePrice</th>\n",
       "      <th>LSalePrice</th>\n",
       "    </tr>\n",
       "  </thead>\n",
       "  <tbody>\n",
       "    <tr>\n",
       "      <th>523</th>\n",
       "      <td>524</td>\n",
       "      <td>60</td>\n",
       "      <td>RL</td>\n",
       "      <td>130.0</td>\n",
       "      <td>40094</td>\n",
       "      <td>Pave</td>\n",
       "      <td>NaN</td>\n",
       "      <td>IR1</td>\n",
       "      <td>Bnk</td>\n",
       "      <td>AllPub</td>\n",
       "      <td>...</td>\n",
       "      <td>NaN</td>\n",
       "      <td>NaN</td>\n",
       "      <td>NaN</td>\n",
       "      <td>0</td>\n",
       "      <td>10</td>\n",
       "      <td>2007</td>\n",
       "      <td>New</td>\n",
       "      <td>Partial</td>\n",
       "      <td>184750</td>\n",
       "      <td>12.126759</td>\n",
       "    </tr>\n",
       "    <tr>\n",
       "      <th>1298</th>\n",
       "      <td>1299</td>\n",
       "      <td>60</td>\n",
       "      <td>RL</td>\n",
       "      <td>313.0</td>\n",
       "      <td>63887</td>\n",
       "      <td>Pave</td>\n",
       "      <td>NaN</td>\n",
       "      <td>IR3</td>\n",
       "      <td>Bnk</td>\n",
       "      <td>AllPub</td>\n",
       "      <td>...</td>\n",
       "      <td>Gd</td>\n",
       "      <td>NaN</td>\n",
       "      <td>NaN</td>\n",
       "      <td>0</td>\n",
       "      <td>1</td>\n",
       "      <td>2008</td>\n",
       "      <td>New</td>\n",
       "      <td>Partial</td>\n",
       "      <td>160000</td>\n",
       "      <td>11.982929</td>\n",
       "    </tr>\n",
       "  </tbody>\n",
       "</table>\n",
       "<p>2 rows × 82 columns</p>\n",
       "</div>"
      ],
      "text/plain": [
       "        Id  MSSubClass MSZoning  LotFrontage  LotArea Street Alley LotShape  \\\n",
       "523    524          60       RL        130.0    40094   Pave   NaN      IR1   \n",
       "1298  1299          60       RL        313.0    63887   Pave   NaN      IR3   \n",
       "\n",
       "     LandContour Utilities     ...     PoolQC Fence MiscFeature MiscVal  \\\n",
       "523          Bnk    AllPub     ...        NaN   NaN         NaN       0   \n",
       "1298         Bnk    AllPub     ...         Gd   NaN         NaN       0   \n",
       "\n",
       "     MoSold YrSold SaleType  SaleCondition  SalePrice  LSalePrice  \n",
       "523      10   2007      New        Partial     184750   12.126759  \n",
       "1298      1   2008      New        Partial     160000   11.982929  \n",
       "\n",
       "[2 rows x 82 columns]"
      ]
     },
     "execution_count": 37,
     "metadata": {},
     "output_type": "execute_result"
    }
   ],
   "source": [
    "# check the outliers\n",
    "train[data_LSalePrice_GrLivArea['GrLivArea'] > 4500]"
   ]
  },
  {
   "cell_type": "markdown",
   "metadata": {},
   "source": [
    "The transactions with Id number 524 and 1299 are exceptional, but, I couldn't find any specific reason why they becomes outliers. So, we may need to filter them out to build linear regression model for SalePrice. However, we do not consider the data filtering on these cases in the current project."
   ]
  },
  {
   "cell_type": "markdown",
   "metadata": {},
   "source": [
    "\"OverallQual\" is one of the most correlated catagorical values with \"SalePrice\"; it means rates the overall material and finish of the house. With multiple boxplots of different grade, we can see its positive correlation between \"OverallQual\" and \"LSalePrice\". Additionaly, most transactions have mid-grade as \"OverallQual\"."
   ]
  },
  {
   "cell_type": "code",
   "execution_count": 38,
   "metadata": {},
   "outputs": [
    {
     "data": {
      "image/png": "[encoded data removed]",
      "text/plain": [
       "<matplotlib.figure.Figure at 0x117fcde80>"
      ]
     },
     "metadata": {},
     "output_type": "display_data"
    }
   ],
   "source": [
    "# boxplots between OverallQual and LSalePrice\n",
    "data_SalePrice_OverallQual = pd.concat([train['LSalePrice'], train['OverallQual']], axis=1)\n",
    "data_SalePrice_OverallQual.boxplot(column = 'LSalePrice', by='OverallQual')\n",
    "plt.grid(False)\n",
    "plt.suptitle('')\n",
    "plt.title('')\n",
    "plt.ylabel('Log(SalePrice)')\n",
    "plt.show()"
   ]
  },
  {
   "cell_type": "markdown",
   "metadata": {},
   "source": [
    "Another categorical parameter are considered, that is \"Neighborhood\", means physical locations within Ames city limits."
   ]
  },
  {
   "cell_type": "code",
   "execution_count": 18,
   "metadata": {
    "collapsed": true
   },
   "outputs": [],
   "source": [
    "data_SalePrice_Neighborhood = pd.concat([np.log(train['LSalePrice']), train['Neighborhood']], axis=1)"
   ]
  },
  {
   "cell_type": "code",
   "execution_count": 19,
   "metadata": {},
   "outputs": [
    {
     "name": "stdout",
     "output_type": "stream",
     "text": [
      "['Blmngtn', 'Blueste', 'BrDale', 'BrkSide', 'ClearCr', 'CollgCr', 'Crawfor', 'Edwards', 'Gilbert', 'IDOTRR', 'MeadowV', 'Mitchel', 'NAmes', 'NPkVill', 'NWAmes', 'NoRidge', 'NridgHt', 'OldTown', 'SWISU', 'Sawyer', 'SawyerW', 'Somerst', 'StoneBr', 'Timber', 'Veenker']\n"
     ]
    }
   ],
   "source": [
    "# list of Neighborhood\n",
    "list_Neighbor = list(data_SalePrice_Neighborhood.groupby('Neighborhood').count().index)\n",
    "print(list_Neighbor)"
   ]
  },
  {
   "cell_type": "code",
   "execution_count": 20,
   "metadata": {},
   "outputs": [
    {
     "name": "stdout",
     "output_type": "stream",
     "text": [
      "{'Blmngtn': 0, 'Blueste': 1, 'BrDale': 2, 'BrkSide': 3, 'ClearCr': 4, 'CollgCr': 5, 'Crawfor': 6, 'Edwards': 7, 'Gilbert': 8, 'IDOTRR': 9, 'MeadowV': 10, 'Mitchel': 11, 'NAmes': 12, 'NPkVill': 13, 'NWAmes': 14, 'NoRidge': 15, 'NridgHt': 16, 'OldTown': 17, 'SWISU': 18, 'Sawyer': 19, 'SawyerW': 20, 'Somerst': 21, 'StoneBr': 22, 'Timber': 23, 'Veenker': 24}\n"
     ]
    }
   ],
   "source": [
    "# dictionary of Neighborhood\n",
    "dict_Neighbor = dict( zip(list_Neighbor,list(range(len(list_Neighbor)))) )\n",
    "print(dict_Neighbor)"
   ]
  },
  {
   "cell_type": "markdown",
   "metadata": {},
   "source": [
    "To compare the dependency between each \"Neighborhood\" and \"LSalePrice\", we replace string \"Neighborhood\" to integer \"Simple_Neighborhood\", but it is sorted by alphabet order."
   ]
  },
  {
   "cell_type": "code",
   "execution_count": 21,
   "metadata": {
    "collapsed": true
   },
   "outputs": [],
   "source": [
    "data_SalePrice_Neighborhood['Simple_Neighborhood'] = \\\n",
    "data_SalePrice_Neighborhood.Neighborhood.replace(dict_Neighbor)"
   ]
  },
  {
   "cell_type": "code",
   "execution_count": 22,
   "metadata": {},
   "outputs": [
    {
     "data": {
      "text/html": [
       "<div>\n",
       "<style>\n",
       "    .dataframe thead tr:only-child th {\n",
       "        text-align: right;\n",
       "    }\n",
       "\n",
       "    .dataframe thead th {\n",
       "        text-align: left;\n",
       "    }\n",
       "\n",
       "    .dataframe tbody tr th {\n",
       "        vertical-align: top;\n",
       "    }\n",
       "</style>\n",
       "<table border=\"1\" class=\"dataframe\">\n",
       "  <thead>\n",
       "    <tr style=\"text-align: right;\">\n",
       "      <th></th>\n",
       "      <th>LSalePrice</th>\n",
       "      <th>Neighborhood</th>\n",
       "      <th>Simple_Neighborhood</th>\n",
       "    </tr>\n",
       "  </thead>\n",
       "  <tbody>\n",
       "    <tr>\n",
       "      <th>0</th>\n",
       "      <td>2.505338</td>\n",
       "      <td>CollgCr</td>\n",
       "      <td>5</td>\n",
       "    </tr>\n",
       "    <tr>\n",
       "      <th>1</th>\n",
       "      <td>2.493950</td>\n",
       "      <td>Veenker</td>\n",
       "      <td>24</td>\n",
       "    </tr>\n",
       "    <tr>\n",
       "      <th>2</th>\n",
       "      <td>2.510994</td>\n",
       "      <td>CollgCr</td>\n",
       "      <td>5</td>\n",
       "    </tr>\n",
       "    <tr>\n",
       "      <th>3</th>\n",
       "      <td>2.472277</td>\n",
       "      <td>Crawfor</td>\n",
       "      <td>6</td>\n",
       "    </tr>\n",
       "    <tr>\n",
       "      <th>4</th>\n",
       "      <td>2.520050</td>\n",
       "      <td>NoRidge</td>\n",
       "      <td>15</td>\n",
       "    </tr>\n",
       "    <tr>\n",
       "      <th>5</th>\n",
       "      <td>2.474065</td>\n",
       "      <td>Mitchel</td>\n",
       "      <td>11</td>\n",
       "    </tr>\n",
       "    <tr>\n",
       "      <th>6</th>\n",
       "      <td>2.536439</td>\n",
       "      <td>Somerst</td>\n",
       "      <td>21</td>\n",
       "    </tr>\n",
       "    <tr>\n",
       "      <th>7</th>\n",
       "      <td>2.501934</td>\n",
       "      <td>NWAmes</td>\n",
       "      <td>14</td>\n",
       "    </tr>\n",
       "    <tr>\n",
       "      <th>8</th>\n",
       "      <td>2.465938</td>\n",
       "      <td>OldTown</td>\n",
       "      <td>17</td>\n",
       "    </tr>\n",
       "    <tr>\n",
       "      <th>9</th>\n",
       "      <td>2.457744</td>\n",
       "      <td>BrkSide</td>\n",
       "      <td>3</td>\n",
       "    </tr>\n",
       "  </tbody>\n",
       "</table>\n",
       "</div>"
      ],
      "text/plain": [
       "   LSalePrice Neighborhood  Simple_Neighborhood\n",
       "0    2.505338      CollgCr                    5\n",
       "1    2.493950      Veenker                   24\n",
       "2    2.510994      CollgCr                    5\n",
       "3    2.472277      Crawfor                    6\n",
       "4    2.520050      NoRidge                   15\n",
       "5    2.474065      Mitchel                   11\n",
       "6    2.536439      Somerst                   21\n",
       "7    2.501934       NWAmes                   14\n",
       "8    2.465938      OldTown                   17\n",
       "9    2.457744      BrkSide                    3"
      ]
     },
     "execution_count": 22,
     "metadata": {},
     "output_type": "execute_result"
    }
   ],
   "source": [
    "data_SalePrice_Neighborhood.head(10)"
   ]
  },
  {
   "cell_type": "markdown",
   "metadata": {},
   "source": [
    "Let's draw the boxplots of \"neighborhood\"!"
   ]
  },
  {
   "cell_type": "code",
   "execution_count": 23,
   "metadata": {},
   "outputs": [
    {
     "data": {
      "image/png": "[encoded data removed]",
      "text/plain": [
       "<matplotlib.figure.Figure at 0x117954ef0>"
      ]
     },
     "metadata": {},
     "output_type": "display_data"
    }
   ],
   "source": [
    "# boxplot between Neighborhood and LSalePrice\n",
    "# sorted by Alphabet\n",
    "data_SalePrice_Neighborhood.boxplot(column = 'LSalePrice', by='Simple_Neighborhood', figsize=(12,4))\n",
    "plt.grid(False)\n",
    "plt.suptitle('')\n",
    "plt.title('')\n",
    "plt.ylabel('Log(SalePrice)')\n",
    "plt.xlabel('Neighborhood (By Alphabet)')\n",
    "locs, labels = plt.xticks()  \n",
    "plt.xticks(locs, list_Neighbor, rotation = 90)\n",
    "plt.show()"
   ]
  },
  {
   "cell_type": "markdown",
   "metadata": {},
   "source": [
    "While the boxplots are clustered around their own median, they are placed randomly. So, I decide to draw boxplots sorted by their repective median."
   ]
  },
  {
   "cell_type": "code",
   "execution_count": 24,
   "metadata": {},
   "outputs": [
    {
     "name": "stdout",
     "output_type": "stream",
     "text": [
      "Neighborhood\n",
      "MeadowV    2.432305\n",
      "IDOTRR     2.446035\n",
      "BrDale     2.448519\n",
      "OldTown    2.458467\n",
      "Edwards    2.460410\n",
      "BrkSide    2.462166\n",
      "Sawyer     2.469203\n",
      "Blueste    2.470311\n",
      "SWISU      2.471975\n",
      "NAmes      2.472277\n",
      "NPkVill    2.475812\n",
      "Mitchel    2.480016\n",
      "SawyerW    2.493218\n",
      "Gilbert    2.493722\n",
      "NWAmes     2.494584\n",
      "Blmngtn    2.498154\n",
      "CollgCr    2.500777\n",
      "ClearCr    2.502036\n",
      "Crawfor    2.502189\n",
      "Veenker    2.508969\n",
      "Somerst    2.511717\n",
      "Timber     2.512780\n",
      "StoneBr    2.528555\n",
      "NoRidge    2.535007\n",
      "NridgHt    2.538473\n",
      "Name: LSalePrice, dtype: float64\n"
     ]
    }
   ],
   "source": [
    "median_SalePrice_groupby_Neighborhood = data_SalePrice_Neighborhood.groupby('Neighborhood').LSalePrice.median()\n",
    "print(median_SalePrice_groupby_Neighborhood.sort_values())"
   ]
  },
  {
   "cell_type": "code",
   "execution_count": 25,
   "metadata": {},
   "outputs": [
    {
     "name": "stdout",
     "output_type": "stream",
     "text": [
      "{'MeadowV': 0, 'IDOTRR': 1, 'BrDale': 2, 'OldTown': 3, 'Edwards': 4, 'BrkSide': 5, 'Sawyer': 6, 'Blueste': 7, 'SWISU': 8, 'NAmes': 9, 'NPkVill': 10, 'Mitchel': 11, 'SawyerW': 12, 'Gilbert': 13, 'NWAmes': 14, 'Blmngtn': 15, 'CollgCr': 16, 'ClearCr': 17, 'Crawfor': 18, 'Veenker': 19, 'Somerst': 20, 'Timber': 21, 'StoneBr': 22, 'NoRidge': 23, 'NridgHt': 24}\n"
     ]
    }
   ],
   "source": [
    "list_Neighbor_sorted = list(median_SalePrice_groupby_Neighborhood.sort_values().index)\n",
    "dict_Neighbor_sorted = dict( zip(list_Neighbor_sorted,list(range(len(list_Neighbor_sorted)))) )\n",
    "print(dict_Neighbor_sorted)"
   ]
  },
  {
   "cell_type": "code",
   "execution_count": 26,
   "metadata": {},
   "outputs": [
    {
     "data": {
      "text/html": [
       "<div>\n",
       "<style>\n",
       "    .dataframe thead tr:only-child th {\n",
       "        text-align: right;\n",
       "    }\n",
       "\n",
       "    .dataframe thead th {\n",
       "        text-align: left;\n",
       "    }\n",
       "\n",
       "    .dataframe tbody tr th {\n",
       "        vertical-align: top;\n",
       "    }\n",
       "</style>\n",
       "<table border=\"1\" class=\"dataframe\">\n",
       "  <thead>\n",
       "    <tr style=\"text-align: right;\">\n",
       "      <th></th>\n",
       "      <th>LSalePrice</th>\n",
       "      <th>Neighborhood</th>\n",
       "      <th>Simple_Neighborhood</th>\n",
       "      <th>Simple_Neighborhood_sorted</th>\n",
       "    </tr>\n",
       "  </thead>\n",
       "  <tbody>\n",
       "    <tr>\n",
       "      <th>0</th>\n",
       "      <td>2.505338</td>\n",
       "      <td>CollgCr</td>\n",
       "      <td>5</td>\n",
       "      <td>16</td>\n",
       "    </tr>\n",
       "    <tr>\n",
       "      <th>1</th>\n",
       "      <td>2.493950</td>\n",
       "      <td>Veenker</td>\n",
       "      <td>24</td>\n",
       "      <td>19</td>\n",
       "    </tr>\n",
       "    <tr>\n",
       "      <th>2</th>\n",
       "      <td>2.510994</td>\n",
       "      <td>CollgCr</td>\n",
       "      <td>5</td>\n",
       "      <td>16</td>\n",
       "    </tr>\n",
       "    <tr>\n",
       "      <th>3</th>\n",
       "      <td>2.472277</td>\n",
       "      <td>Crawfor</td>\n",
       "      <td>6</td>\n",
       "      <td>18</td>\n",
       "    </tr>\n",
       "    <tr>\n",
       "      <th>4</th>\n",
       "      <td>2.520050</td>\n",
       "      <td>NoRidge</td>\n",
       "      <td>15</td>\n",
       "      <td>23</td>\n",
       "    </tr>\n",
       "    <tr>\n",
       "      <th>5</th>\n",
       "      <td>2.474065</td>\n",
       "      <td>Mitchel</td>\n",
       "      <td>11</td>\n",
       "      <td>11</td>\n",
       "    </tr>\n",
       "    <tr>\n",
       "      <th>6</th>\n",
       "      <td>2.536439</td>\n",
       "      <td>Somerst</td>\n",
       "      <td>21</td>\n",
       "      <td>20</td>\n",
       "    </tr>\n",
       "    <tr>\n",
       "      <th>7</th>\n",
       "      <td>2.501934</td>\n",
       "      <td>NWAmes</td>\n",
       "      <td>14</td>\n",
       "      <td>14</td>\n",
       "    </tr>\n",
       "    <tr>\n",
       "      <th>8</th>\n",
       "      <td>2.465938</td>\n",
       "      <td>OldTown</td>\n",
       "      <td>17</td>\n",
       "      <td>3</td>\n",
       "    </tr>\n",
       "    <tr>\n",
       "      <th>9</th>\n",
       "      <td>2.457744</td>\n",
       "      <td>BrkSide</td>\n",
       "      <td>3</td>\n",
       "      <td>5</td>\n",
       "    </tr>\n",
       "  </tbody>\n",
       "</table>\n",
       "</div>"
      ],
      "text/plain": [
       "   LSalePrice Neighborhood  Simple_Neighborhood  Simple_Neighborhood_sorted\n",
       "0    2.505338      CollgCr                    5                          16\n",
       "1    2.493950      Veenker                   24                          19\n",
       "2    2.510994      CollgCr                    5                          16\n",
       "3    2.472277      Crawfor                    6                          18\n",
       "4    2.520050      NoRidge                   15                          23\n",
       "5    2.474065      Mitchel                   11                          11\n",
       "6    2.536439      Somerst                   21                          20\n",
       "7    2.501934       NWAmes                   14                          14\n",
       "8    2.465938      OldTown                   17                           3\n",
       "9    2.457744      BrkSide                    3                           5"
      ]
     },
     "execution_count": 26,
     "metadata": {},
     "output_type": "execute_result"
    }
   ],
   "source": [
    "data_SalePrice_Neighborhood['Simple_Neighborhood_sorted'] = \\\n",
    "data_SalePrice_Neighborhood.Neighborhood.replace(dict_Neighbor_sorted)\n",
    "data_SalePrice_Neighborhood.head(10)"
   ]
  },
  {
   "cell_type": "code",
   "execution_count": 27,
   "metadata": {},
   "outputs": [
    {
     "data": {
      "image/png": "[encoded data removed]",
      "text/plain": [
       "<matplotlib.figure.Figure at 0x1180c14e0>"
      ]
     },
     "metadata": {},
     "output_type": "display_data"
    }
   ],
   "source": [
    "data_SalePrice_Neighborhood.boxplot(column = 'LSalePrice', by='Simple_Neighborhood_sorted', figsize=(12,4))\n",
    "plt.grid(False)\n",
    "plt.suptitle('')\n",
    "plt.title('')\n",
    "plt.ylabel('Log(SalePrice)')\n",
    "plt.xlabel('Neighborhood (By median)')\n",
    "locs, labels = plt.xticks()  \n",
    "plt.xticks(locs, list_Neighbor_sorted, rotation = 'vertical')\n",
    "plt.show()"
   ]
  },
  {
   "cell_type": "markdown",
   "metadata": {},
   "source": [
    "Now, it is robust that there is strong correlation between \"Neighborhood\" and \"LSalePrice\"."
   ]
  },
  {
   "cell_type": "markdown",
   "metadata": {},
   "source": [
    "**Analytic Q3. is there statistically difference among seasons? **"
   ]
  },
  {
   "cell_type": "markdown",
   "metadata": {},
   "source": [
    "To further explore in the dataset, I hope to check wheather there is a meaningful difference among seasonal \"SalePrice\"s. Let us do a t-test on the two groups, \"Spring & Summer\" and \"Autumn & Winter\".\n",
    "\n",
    "First, we have incomplete dataset of 2010, because the transaction in 2010 only are collected until July. "
   ]
  },
  {
   "cell_type": "code",
   "execution_count": 29,
   "metadata": {},
   "outputs": [
    {
     "name": "stdout",
     "output_type": "stream",
     "text": [
      "               LSalePrice\n",
      "YrSold MoSold            \n",
      "2006   1               10\n",
      "       2                9\n",
      "       3               25\n",
      "       4               27\n",
      "       5               38\n",
      "       6               48\n",
      "       7               67\n",
      "       8               23\n",
      "       9               15\n",
      "       10              24\n",
      "       11              16\n",
      "       12              12\n",
      "2007   1               13\n",
      "       2                8\n",
      "       3               23\n",
      "       4               23\n",
      "       5               43\n",
      "       6               59\n",
      "       7               51\n",
      "       8               40\n",
      "       9               11\n",
      "       10              16\n",
      "       11              24\n",
      "       12              18\n",
      "2008   1               13\n",
      "       2               10\n",
      "       3               18\n",
      "       4               26\n",
      "       5               38\n",
      "       6               51\n",
      "       7               49\n",
      "       8               29\n",
      "       9               17\n",
      "       10              22\n",
      "       11              17\n",
      "       12              14\n",
      "2009   1               12\n",
      "       2               10\n",
      "       3               19\n",
      "       4               26\n",
      "       5               37\n",
      "       6               59\n",
      "       7               61\n",
      "       8               30\n",
      "       9               20\n",
      "       10              27\n",
      "       11              22\n",
      "       12              15\n",
      "2010   1               10\n",
      "       2               15\n",
      "       3               21\n",
      "       4               39\n",
      "       5               48\n",
      "       6               36\n",
      "       7                6\n"
     ]
    }
   ],
   "source": [
    "LSalePrice_MoSold_YrSold = pd.concat([train['LSalePrice'], train['MoSold'], train['YrSold']], axis=1) \n",
    "print(LSalePrice_MoSold_YrSold.groupby(['YrSold', 'MoSold']).count())"
   ]
  },
  {
   "cell_type": "markdown",
   "metadata": {},
   "source": [
    "So, I filtered out the cases traded in 2010."
   ]
  },
  {
   "cell_type": "code",
   "execution_count": 30,
   "metadata": {},
   "outputs": [
    {
     "name": "stdout",
     "output_type": "stream",
     "text": [
      "               LSalePrice\n",
      "YrSold MoSold            \n",
      "2006   1               10\n",
      "       2                9\n",
      "       3               25\n",
      "       4               27\n",
      "       5               38\n",
      "       6               48\n",
      "       7               67\n",
      "       8               23\n",
      "       9               15\n",
      "       10              24\n",
      "       11              16\n",
      "       12              12\n",
      "2007   1               13\n",
      "       2                8\n",
      "       3               23\n",
      "       4               23\n",
      "       5               43\n",
      "       6               59\n",
      "       7               51\n",
      "       8               40\n",
      "       9               11\n",
      "       10              16\n",
      "       11              24\n",
      "       12              18\n",
      "2008   1               13\n",
      "       2               10\n",
      "       3               18\n",
      "       4               26\n",
      "       5               38\n",
      "       6               51\n",
      "       7               49\n",
      "       8               29\n",
      "       9               17\n",
      "       10              22\n",
      "       11              17\n",
      "       12              14\n",
      "2009   1               12\n",
      "       2               10\n",
      "       3               19\n",
      "       4               26\n",
      "       5               37\n",
      "       6               59\n",
      "       7               61\n",
      "       8               30\n",
      "       9               20\n",
      "       10              27\n",
      "       11              22\n",
      "       12              15\n"
     ]
    }
   ],
   "source": [
    "LSalePrice_MoSold_YrSold_wo2010 = LSalePrice_MoSold_YrSold[ LSalePrice_MoSold_YrSold.YrSold != 2010]\n",
    "print(LSalePrice_MoSold_YrSold_wo2010.groupby(['YrSold', 'MoSold']).count())"
   ]
  },
  {
   "cell_type": "markdown",
   "metadata": {},
   "source": [
    "There is fluctuation in total number of transaction according to month! The number of trade starts to increase from March and decrease from August."
   ]
  },
  {
   "cell_type": "code",
   "execution_count": 31,
   "metadata": {},
   "outputs": [
    {
     "data": {
      "image/png": "[encoded data removed]",
      "text/plain": [
       "<matplotlib.figure.Figure at 0x117cef748>"
      ]
     },
     "metadata": {},
     "output_type": "display_data"
    }
   ],
   "source": [
    "plt.plot(LSalePrice_MoSold_YrSold_wo2010.groupby('MoSold').count())\n",
    "plt.xlabel('Month')\n",
    "plt.ylabel('Number of transaction')\n",
    "plt.xticks(np.arange(1,13))\n",
    "plt.show()"
   ]
  },
  {
   "cell_type": "markdown",
   "metadata": {},
   "source": [
    "Therefore, I divide the cases to two kinds of groups:\"Spring & Summer\", from Mar to Aug, and \"Autumn & Winter\", from Sep to Feb."
   ]
  },
  {
   "cell_type": "code",
   "execution_count": 44,
   "metadata": {},
   "outputs": [
    {
     "name": "stdout",
     "output_type": "stream",
     "text": [
      "   LSalePrice  MoSold  YrSold  SeasSold\n",
      "0   12.247694       2    2008         1\n",
      "1   12.109011       5    2007         0\n",
      "2   12.317167       9    2008         1\n",
      "3   11.849398       2    2006         1\n",
      "4   12.429216      12    2008         1\n",
      "5   11.870600      10    2009         1\n",
      "6   12.634603       8    2007         0\n",
      "7   12.206073      11    2009         1\n",
      "8   11.774520       4    2008         0\n",
      "9   11.678440       1    2008         1\n"
     ]
    },
    {
     "name": "stderr",
     "output_type": "stream",
     "text": [
      "/Users/hwanpyokim/anaconda/lib/python3.6/site-packages/ipykernel_launcher.py:4: SettingWithCopyWarning: \n",
      "A value is trying to be set on a copy of a slice from a DataFrame.\n",
      "Try using .loc[row_indexer,col_indexer] = value instead\n",
      "\n",
      "See the caveats in the documentation: http://pandas.pydata.org/pandas-docs/stable/indexing.html#indexing-view-versus-copy\n",
      "  after removing the cwd from sys.path.\n"
     ]
    }
   ],
   "source": [
    "LSalePrice_MoSold_YrSold_wo2010['SeasSold'] = LSalePrice_MoSold_YrSold_wo2010.MoSold.replace({3:0, 4:0, 5:0, \n",
    "                                                                                             6:0, 7:0, 8:0, \n",
    "                                                                                             9:1, 10:1, 11:1, \n",
    "                                                                                             12:1, 1:1, 2:1,})\n",
    "print(LSalePrice_MoSold_YrSold_wo2010.head(10))"
   ]
  },
  {
   "cell_type": "markdown",
   "metadata": {},
   "source": [
    "Now, let's compare the number of trade betwen the prescribed two groups. The total number of transaction during spring and summer, 910 is more than double the one during autumn and winter, 375."
   ]
  },
  {
   "cell_type": "code",
   "execution_count": 33,
   "metadata": {},
   "outputs": [
    {
     "data": {
      "image/png": "[encoded data removed]",
      "text/plain": [
       "<matplotlib.figure.Figure at 0x118016438>"
      ]
     },
     "metadata": {},
     "output_type": "display_data"
    }
   ],
   "source": [
    "plt.bar((0,1), LSalePrice_MoSold_YrSold_wo2010.groupby('SeasSold').count().iloc[:,0])\n",
    "plt.ylabel('Number of transaction')\n",
    "plt.xticks((0,1), ('Spring & Summer', 'Autumn & Winter'))\n",
    "plt.show()"
   ]
  },
  {
   "cell_type": "markdown",
   "metadata": {},
   "source": [
    "Similar to the difference within the number of trade, is there statistically meaningful difference of housing price between the two? First, compare their boxplots!"
   ]
  },
  {
   "cell_type": "code",
   "execution_count": 34,
   "metadata": {},
   "outputs": [
    {
     "data": {
      "image/png": "[encoded data removed]",
      "text/plain": [
       "<matplotlib.figure.Figure at 0x118413be0>"
      ]
     },
     "metadata": {},
     "output_type": "display_data"
    }
   ],
   "source": [
    "LSalePrice_MoSold_YrSold_wo2010.boxplot(column = 'LSalePrice', by='SeasSold')\n",
    "plt.grid(False)\n",
    "plt.suptitle('')\n",
    "plt.title('')\n",
    "plt.xlabel('')\n",
    "plt.ylabel('Log(SalePrice)')\n",
    "locs, labels = plt.xticks()  \n",
    "plt.xticks(locs, ('Spring & Summer', 'Autumn & Winter'))\n",
    "plt.show()"
   ]
  },
  {
   "cell_type": "markdown",
   "metadata": {},
   "source": [
    "Even though we can recognize there are more outliers in the group, spring & summer, it doesn't seems strong differences of median and IQR. Let us do a t-test between the different seasons!"
   ]
  },
  {
   "cell_type": "code",
   "execution_count": 40,
   "metadata": {
    "collapsed": true
   },
   "outputs": [],
   "source": [
    "LSalePrice_SS = LSalePrice_MoSold_YrSold_wo2010.LSalePrice[LSalePrice_MoSold_YrSold_wo2010.SeasSold == 0]\n",
    "LSalePrice_AW = LSalePrice_MoSold_YrSold_wo2010.LSalePrice[LSalePrice_MoSold_YrSold_wo2010.SeasSold == 1]"
   ]
  },
  {
   "cell_type": "code",
   "execution_count": 41,
   "metadata": {
    "scrolled": false
   },
   "outputs": [
    {
     "data": {
      "text/plain": [
       "Ttest_indResult(statistic=-1.1544636470391187, pvalue=0.2487433094385898)"
      ]
     },
     "execution_count": 41,
     "metadata": {},
     "output_type": "execute_result"
    }
   ],
   "source": [
    "stats.ttest_ind(LSalePrice_SS, LSalePrice_AW, equal_var=False)"
   ]
  },
  {
   "cell_type": "markdown",
   "metadata": {},
   "source": [
    "The t-test is for normal distribution, and \"LSalePrice\" of the two seasons are quite normal distributions. From the t-test, we have p-value is 0.249, is too big to decline the null hypotheses. Therefore, we cannot be confident in the difference in means is statistically significant!\n"
   ]
  },
  {
   "cell_type": "markdown",
   "metadata": {},
   "source": [
    "### Future Rearsearch"
   ]
  },
  {
   "attachments": {},
   "cell_type": "markdown",
   "metadata": {},
   "source": [
    "\n",
    "Finally, I found out the normality of \"LSalePrice\", logarithmic \"SalePrice\", and checked its correlations with representative parameters. Furthermore, we validated that there is no statistical difference between seasonal housing prices.\n",
    "\n",
    "How could I use data to help make an efficient decision in housing? We need to do univariate & multivariate analysis on all of the parameters. I only choose the prescribed 3 variables as featuring analysis among 79 parameters. However, we could find out another factor which affects the price.\n",
    "\n",
    "The number of cases in the Ames housing dataset is quite limited, so I should consider more significant dataset such as Zillow's one with more row to build stronger statistical confidence.\n",
    "\n",
    "A few of factors includes a subjective opinion (ex: \"OverallQual\") where the grade of one individual within a region may not be aligned with another person within another region. We should consider the appropriate way to these subjective grades.\n",
    "\n",
    "At last, I would do more steps including data cleaning, pre-processing, and predictive modeling including linear regression, support vector machine, random forest, etc.\n"
   ]
  },
  {
   "cell_type": "code",
   "execution_count": null,
   "metadata": {
    "collapsed": true
   },
   "outputs": [],
   "source": []
  }
 ],
 "metadata": {
  "kernelspec": {
   "display_name": "Python 3",
   "language": "python",
   "name": "python3"
  },
  "language_info": {
   "codemirror_mode": {
    "name": "ipython",
    "version": 3
   },
   "file_extension": ".py",
   "mimetype": "text/x-python",
   "name": "python",
   "nbconvert_exporter": "python",
   "pygments_lexer": "ipython3",
   "version": "3.6.2"
  }
 },
 "nbformat": 4,
 "nbformat_minor": 2
}
